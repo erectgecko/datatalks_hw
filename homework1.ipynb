{
 "cells": [
  {
   "cell_type": "code",
   "execution_count": 1,
   "metadata": {},
   "outputs": [
    {
     "name": "stdout",
     "output_type": "stream",
     "text": [
      "Requirement already satisfied: yfinance in /Users/karl.sallmen/miniconda3/envs/cwyd/lib/python3.9/site-packages (0.2.38)\n",
      "Requirement already satisfied: pandas>=1.3.0 in /Users/karl.sallmen/miniconda3/envs/cwyd/lib/python3.9/site-packages (from yfinance) (2.1.1)\n",
      "Requirement already satisfied: numpy>=1.16.5 in /Users/karl.sallmen/miniconda3/envs/cwyd/lib/python3.9/site-packages (from yfinance) (1.24.4)\n",
      "Requirement already satisfied: requests>=2.31 in /Users/karl.sallmen/miniconda3/envs/cwyd/lib/python3.9/site-packages (from yfinance) (2.31.0)\n",
      "Requirement already satisfied: multitasking>=0.0.7 in /Users/karl.sallmen/miniconda3/envs/cwyd/lib/python3.9/site-packages (from yfinance) (0.0.11)\n",
      "Requirement already satisfied: lxml>=4.9.1 in /Users/karl.sallmen/miniconda3/envs/cwyd/lib/python3.9/site-packages (from yfinance) (5.2.1)\n",
      "Requirement already satisfied: appdirs>=1.4.4 in /Users/karl.sallmen/miniconda3/envs/cwyd/lib/python3.9/site-packages (from yfinance) (1.4.4)\n",
      "Requirement already satisfied: pytz>=2022.5 in /Users/karl.sallmen/miniconda3/envs/cwyd/lib/python3.9/site-packages (from yfinance) (2023.3.post1)\n",
      "Requirement already satisfied: frozendict>=2.3.4 in /Users/karl.sallmen/miniconda3/envs/cwyd/lib/python3.9/site-packages (from yfinance) (2.4.2)\n",
      "Requirement already satisfied: peewee>=3.16.2 in /Users/karl.sallmen/miniconda3/envs/cwyd/lib/python3.9/site-packages (from yfinance) (3.17.3)\n",
      "Requirement already satisfied: beautifulsoup4>=4.11.1 in /Users/karl.sallmen/miniconda3/envs/cwyd/lib/python3.9/site-packages (from yfinance) (4.12.3)\n",
      "Requirement already satisfied: html5lib>=1.1 in /Users/karl.sallmen/miniconda3/envs/cwyd/lib/python3.9/site-packages (from yfinance) (1.1)\n",
      "Requirement already satisfied: soupsieve>1.2 in /Users/karl.sallmen/miniconda3/envs/cwyd/lib/python3.9/site-packages (from beautifulsoup4>=4.11.1->yfinance) (2.5)\n",
      "Requirement already satisfied: six>=1.9 in /Users/karl.sallmen/miniconda3/envs/cwyd/lib/python3.9/site-packages (from html5lib>=1.1->yfinance) (1.16.0)\n",
      "Requirement already satisfied: webencodings in /Users/karl.sallmen/miniconda3/envs/cwyd/lib/python3.9/site-packages (from html5lib>=1.1->yfinance) (0.5.1)\n",
      "Requirement already satisfied: python-dateutil>=2.8.2 in /Users/karl.sallmen/miniconda3/envs/cwyd/lib/python3.9/site-packages (from pandas>=1.3.0->yfinance) (2.8.2)\n",
      "Requirement already satisfied: tzdata>=2022.1 in /Users/karl.sallmen/miniconda3/envs/cwyd/lib/python3.9/site-packages (from pandas>=1.3.0->yfinance) (2023.3)\n",
      "Requirement already satisfied: charset-normalizer<4,>=2 in /Users/karl.sallmen/miniconda3/envs/cwyd/lib/python3.9/site-packages (from requests>=2.31->yfinance) (3.3.0)\n",
      "Requirement already satisfied: idna<4,>=2.5 in /Users/karl.sallmen/miniconda3/envs/cwyd/lib/python3.9/site-packages (from requests>=2.31->yfinance) (2.10)\n",
      "Requirement already satisfied: urllib3<3,>=1.21.1 in /Users/karl.sallmen/miniconda3/envs/cwyd/lib/python3.9/site-packages (from requests>=2.31->yfinance) (1.26.18)\n",
      "Requirement already satisfied: certifi>=2017.4.17 in /Users/karl.sallmen/miniconda3/envs/cwyd/lib/python3.9/site-packages (from requests>=2.31->yfinance) (2023.7.22)\n",
      "Requirement already satisfied: pandas-datareader in /Users/karl.sallmen/miniconda3/envs/cwyd/lib/python3.9/site-packages (0.10.0)\n",
      "Requirement already satisfied: lxml in /Users/karl.sallmen/miniconda3/envs/cwyd/lib/python3.9/site-packages (from pandas-datareader) (5.2.1)\n",
      "Requirement already satisfied: pandas>=0.23 in /Users/karl.sallmen/miniconda3/envs/cwyd/lib/python3.9/site-packages (from pandas-datareader) (2.1.1)\n",
      "Requirement already satisfied: requests>=2.19.0 in /Users/karl.sallmen/miniconda3/envs/cwyd/lib/python3.9/site-packages (from pandas-datareader) (2.31.0)\n",
      "Requirement already satisfied: numpy>=1.22.4 in /Users/karl.sallmen/miniconda3/envs/cwyd/lib/python3.9/site-packages (from pandas>=0.23->pandas-datareader) (1.24.4)\n",
      "Requirement already satisfied: python-dateutil>=2.8.2 in /Users/karl.sallmen/miniconda3/envs/cwyd/lib/python3.9/site-packages (from pandas>=0.23->pandas-datareader) (2.8.2)\n",
      "Requirement already satisfied: pytz>=2020.1 in /Users/karl.sallmen/miniconda3/envs/cwyd/lib/python3.9/site-packages (from pandas>=0.23->pandas-datareader) (2023.3.post1)\n",
      "Requirement already satisfied: tzdata>=2022.1 in /Users/karl.sallmen/miniconda3/envs/cwyd/lib/python3.9/site-packages (from pandas>=0.23->pandas-datareader) (2023.3)\n",
      "Requirement already satisfied: charset-normalizer<4,>=2 in /Users/karl.sallmen/miniconda3/envs/cwyd/lib/python3.9/site-packages (from requests>=2.19.0->pandas-datareader) (3.3.0)\n",
      "Requirement already satisfied: idna<4,>=2.5 in /Users/karl.sallmen/miniconda3/envs/cwyd/lib/python3.9/site-packages (from requests>=2.19.0->pandas-datareader) (2.10)\n",
      "Requirement already satisfied: urllib3<3,>=1.21.1 in /Users/karl.sallmen/miniconda3/envs/cwyd/lib/python3.9/site-packages (from requests>=2.19.0->pandas-datareader) (1.26.18)\n",
      "Requirement already satisfied: certifi>=2017.4.17 in /Users/karl.sallmen/miniconda3/envs/cwyd/lib/python3.9/site-packages (from requests>=2.19.0->pandas-datareader) (2023.7.22)\n",
      "Requirement already satisfied: six>=1.5 in /Users/karl.sallmen/miniconda3/envs/cwyd/lib/python3.9/site-packages (from python-dateutil>=2.8.2->pandas>=0.23->pandas-datareader) (1.16.0)\n"
     ]
    }
   ],
   "source": [
    "!pip install yfinance\n",
    "!pip install pandas-datareader\n",
    "# IMPORTS\n",
    "import numpy as np\n",
    "import pandas as pd\n",
    "\n",
    "#Fin Data Sources\n",
    "import yfinance as yf\n",
    "import pandas_datareader as pdr\n",
    "\n",
    "#Data viz\n",
    "import plotly.graph_objs as go\n",
    "import plotly.express as px\n",
    "\n",
    "import time\n",
    "from datetime import date"
   ]
  },
  {
   "cell_type": "code",
   "execution_count": 2,
   "metadata": {},
   "outputs": [
    {
     "name": "stdout",
     "output_type": "stream",
     "text": [
      "The answer to question 1 is: 2.5\n"
     ]
    }
   ],
   "source": [
    "#QUESTION 1\n",
    "\n",
    "end = date.today()\n",
    "\n",
    "start = date(year=end.year-70, month=end.month, day=end.day)\n",
    "\n",
    "gdpc1 = pdr.DataReader(\"GDPC1\", \"fred\", start=start)\n",
    "\n",
    "gdpc1['gdpc1_yoy'] = gdpc1.GDPC1/gdpc1.GDPC1.shift(4)-1\n",
    "\n",
    "answer_question_1 = gdpc1['gdpc1_yoy'].tail(4).mean() * 100\n",
    "\n",
    "print('The answer to question 1 is:', answer_question_1.round(decimals=1))\n"
   ]
  },
  {
   "cell_type": "code",
   "execution_count": 3,
   "metadata": {},
   "outputs": [
    {
     "name": "stdout",
     "output_type": "stream",
     "text": [
      "the answer to question 2 is: -1.1\n"
     ]
    }
   ],
   "source": [
    "#QUESTION 2\n",
    "\n",
    "start = date(year=2000, month=1, day=1)\n",
    "\n",
    "dgs2 = pdr.DataReader(\"DGS2\", \"fred\",start=start)\n",
    "\n",
    "dgs10 = pdr.DataReader(\"DGS10\", \"fred\",start=start)\n",
    "\n",
    "combined = dgs2.join(dgs10).reset_index()\n",
    "\n",
    "combined[combined['DATE'].dt.year >= 2000]\n",
    "\n",
    "combined['difference'] = combined['DGS10']-combined['DGS2']\n",
    "\n",
    "answer_question_2 = combined['difference'].min()\n",
    "\n",
    "print('the answer to question 2 is:',answer_question_2.round(decimals = 1))"
   ]
  },
  {
   "cell_type": "code",
   "execution_count": 4,
   "metadata": {},
   "outputs": [
    {
     "name": "stderr",
     "output_type": "stream",
     "text": [
      "[*********************100%%**********************]  1 of 1 completed\n",
      "[*********************100%%**********************]  1 of 1 completed"
     ]
    },
    {
     "name": "stdout",
     "output_type": "stream",
     "text": [
      "The answer to question 3 is: 81.01279426847174\n"
     ]
    },
    {
     "name": "stderr",
     "output_type": "stream",
     "text": [
      "\n"
     ]
    }
   ],
   "source": [
    "#QUESTION 3\n",
    "\n",
    "sp500 = yf.download(tickers = \"^GSPC\", period = \"max\", interval = \"1d\")\n",
    "\n",
    "ipcmex = yf.download(tickers = \"^MXX\", period = \"max\", interval = \"1d\")\n",
    "\n",
    "\n",
    "start = '2019-04-09'\n",
    "\n",
    "end = '2024-04-09'\n",
    "\n",
    "\n",
    "sp500_growth_5y = ((sp500.loc[end, 'Adj Close'] / sp500.loc[start, 'Adj Close']) - 1) * 100\n",
    "\n",
    "ipcmex_growth_5y = ((ipcmex.loc[end, 'Adj Close'] / ipcmex.loc[start, 'Adj Close']) - 1) * 100\n",
    "\n",
    "\n",
    "final = np.array(sp500_growth_5y, ipcmex_growth_5y)\n",
    "\n",
    "answer_question_3 = final.max()\n",
    "\n",
    "print('The answer to question 3 is:', answer_question_3)"
   ]
  },
  {
   "cell_type": "code",
   "execution_count": 5,
   "metadata": {},
   "outputs": [
    {
     "name": "stderr",
     "output_type": "stream",
     "text": [
      "[*********************100%%**********************]  6 of 6 completed"
     ]
    },
    {
     "name": "stdout",
     "output_type": "stream",
     "text": [
      "The answer to question 4 is: 0.42\n"
     ]
    },
    {
     "name": "stderr",
     "output_type": "stream",
     "text": [
      "\n"
     ]
    }
   ],
   "source": [
    "#QUESTION 4\n",
    "\n",
    "stock_list = ['2222.SR', 'BRK-B', 'AAPL', 'MSFT', 'GOOG','JPM']\n",
    "\n",
    "data = yf.download(stock_list, start=\"2023-01-01\", end=\"2023-12-31\")\n",
    "\n",
    "results = []\n",
    "\n",
    "for i in stock_list:\n",
    "\n",
    "    value = (data['Adj Close'][i].max() - data['Adj Close'][i].min()) / data['Adj Close'][i].max()\n",
    "    \n",
    "    results.append({'stock': i, 'value': value})\n",
    "\n",
    "results_df = pd.DataFrame(results)\n",
    "\n",
    "answer_question_4 = results_df.max()['value']\n",
    "\n",
    "print('The answer to question 4 is:',answer_question_4.round(decimals=2))"
   ]
  },
  {
   "cell_type": "code",
   "execution_count": 6,
   "metadata": {},
   "outputs": [
    {
     "name": "stdout",
     "output_type": "stream",
     "text": [
      "The answer to question 5 is: 2.8\n"
     ]
    }
   ],
   "source": [
    "#QUESTION 5\n",
    "\n",
    "msft = yf.Ticker(\"MSFT\")\n",
    "tttt_SR = yf.Ticker('2222.SR')\n",
    "brk_b = yf.Ticker('BRK-B')\n",
    "aapl = yf.Ticker('AAPL')\n",
    "goog = yf.Ticker('GOOG')\n",
    "jpm = yf.Ticker('JPM')\n",
    "\n",
    "msft_div = msft.dividends.reset_index()\n",
    "tttt_SR_div = tttt_SR.dividends.reset_index()\n",
    "brk_b_div = brk_b.dividends.reset_index()\n",
    "aapl_div = aapl.dividends.reset_index()\n",
    "goog_div = goog.dividends.reset_index()\n",
    "jpm_div = jpm.dividends.reset_index()\n",
    "\n",
    "\n",
    "msft_data = msft.history(start=\"2023-12-29\", end=\"2024-01-01\")\n",
    "tttt_SR_data = tttt_SR.history(start=\"2023-12-29\", end=\"2024-01-01\")\n",
    "brk_b_data = brk_b.history( start=\"2023-12-29\", end=\"2024-01-01\")\n",
    "aapl_data = aapl.history( start=\"2023-12-29\", end=\"2024-01-01\")\n",
    "goog_data = goog.history( start=\"2023-12-29\", end=\"2024-01-01\")\n",
    "jpm_data = jpm.history(start=\"2023-12-29\", end=\"2024-01-01\")\n",
    "\n",
    "msft_div_yield = (msft_div[msft_div['Date'].dt.year == 2023].Dividends.sum()/msft_data.Close)*100 \n",
    "tttt_SR_div_yield = (tttt_SR_div[tttt_SR_div['Date'].dt.year == 2023].Dividends.sum()/tttt_SR_data.Close)*100\n",
    "brk_b_div_yield = (brk_b_div[brk_b_div['Date'].dt.year == 2023].Dividends.sum()/brk_b_data.Close)*100\n",
    "aapl_div_yield = (aapl_div[aapl_div['Date'].dt.year == 2023].Dividends.sum()/aapl_data.Close)*100\n",
    "goog_div_yield = (goog_div[goog_div['Date'].dt.year == 2023].Dividends.sum()/goog_data.Close)*100\n",
    "jpm_div_yield = (jpm_div[jpm_div['Date'].dt.year == 2023].Dividends.sum()/jpm_data.Close)*100\n",
    "\n",
    "print('The answer to question 5 is:',tttt_SR_div_yield.reset_index()['Close'].round(decimals=1)[0])    "
   ]
  },
  {
   "cell_type": "code",
   "execution_count": null,
   "metadata": {},
   "outputs": [],
   "source": []
  }
 ],
 "metadata": {
  "kernelspec": {
   "display_name": "cwyd",
   "language": "python",
   "name": "python3"
  },
  "language_info": {
   "codemirror_mode": {
    "name": "ipython",
    "version": 3
   },
   "file_extension": ".py",
   "mimetype": "text/x-python",
   "name": "python",
   "nbconvert_exporter": "python",
   "pygments_lexer": "ipython3",
   "version": "3.9.18"
  }
 },
 "nbformat": 4,
 "nbformat_minor": 2
}
